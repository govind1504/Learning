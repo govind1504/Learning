{
 "cells": [
  {
   "cell_type": "code",
   "execution_count": 1,
   "id": "906e4fac",
   "metadata": {
    "_cell_guid": "b1076dfc-b9ad-4769-8c92-a6c4dae69d19",
    "_uuid": "8f2839f25d086af736a60e9eeb907d3b93b6e0e5",
    "execution": {
     "iopub.execute_input": "2025-04-10T21:47:34.895731Z",
     "iopub.status.busy": "2025-04-10T21:47:34.895348Z",
     "iopub.status.idle": "2025-04-10T21:47:37.179838Z",
     "shell.execute_reply": "2025-04-10T21:47:37.178639Z"
    },
    "papermill": {
     "duration": 2.294681,
     "end_time": "2025-04-10T21:47:37.181791",
     "exception": false,
     "start_time": "2025-04-10T21:47:34.887110",
     "status": "completed"
    },
    "tags": []
   },
   "outputs": [
    {
     "name": "stdout",
     "output_type": "stream",
     "text": [
      "/kaggle/input/iris/Iris.csv\n",
      "/kaggle/input/iris/database.sqlite\n"
     ]
    }
   ],
   "source": [
    "# This Python 3 environment comes with many helpful analytics libraries installed\n",
    "# It is defined by the kaggle/python Docker image: https://github.com/kaggle/docker-python\n",
    "# For example, here's several helpful packages to load\n",
    "\n",
    "import numpy as np # linear algebra\n",
    "import pandas as pd # data processing, CSV file I/O (e.g. pd.read_csv)\n",
    "\n",
    "# Input data files are available in the read-only \"../input/\" directory\n",
    "# For example, running this (by clicking run or pressing Shift+Enter) will list all files under the input directory\n",
    "\n",
    "import os\n",
    "for dirname, _, filenames in os.walk('/kaggle/input'):\n",
    "    for filename in filenames:\n",
    "        print(os.path.join(dirname, filename))\n",
    "\n",
    "# You can write up to 20GB to the current directory (/kaggle/working/) that gets preserved as output when you create a version using \"Save & Run All\" \n",
    "# You can also write temporary files to /kaggle/temp/, but they won't be saved outside of the current session"
   ]
  },
  {
   "cell_type": "code",
   "execution_count": 2,
   "id": "0e236139",
   "metadata": {
    "execution": {
     "iopub.execute_input": "2025-04-10T21:47:37.194754Z",
     "iopub.status.busy": "2025-04-10T21:47:37.194203Z",
     "iopub.status.idle": "2025-04-10T21:47:39.230437Z",
     "shell.execute_reply": "2025-04-10T21:47:39.229458Z"
    },
    "papermill": {
     "duration": 2.044586,
     "end_time": "2025-04-10T21:47:39.232209",
     "exception": false,
     "start_time": "2025-04-10T21:47:37.187623",
     "status": "completed"
    },
    "tags": []
   },
   "outputs": [],
   "source": [
    "import matplotlib.pyplot as plt\n",
    "from sklearn.model_selection import train_test_split\n",
    "from sklearn.linear_model import LogisticRegression\n",
    "from sklearn.metrics import classification_report,confusion_matrix,ConfusionMatrixDisplay\n",
    "%matplotlib inline"
   ]
  },
  {
   "cell_type": "markdown",
   "id": "18bb986c",
   "metadata": {
    "papermill": {
     "duration": 0.005031,
     "end_time": "2025-04-10T21:47:39.244470",
     "exception": false,
     "start_time": "2025-04-10T21:47:39.239439",
     "status": "completed"
    },
    "tags": []
   },
   "source": [
    "# Dataset Import"
   ]
  },
  {
   "cell_type": "code",
   "execution_count": 3,
   "id": "414a73f9",
   "metadata": {
    "execution": {
     "iopub.execute_input": "2025-04-10T21:47:39.256450Z",
     "iopub.status.busy": "2025-04-10T21:47:39.255963Z",
     "iopub.status.idle": "2025-04-10T21:47:39.278761Z",
     "shell.execute_reply": "2025-04-10T21:47:39.277622Z"
    },
    "papermill": {
     "duration": 0.030783,
     "end_time": "2025-04-10T21:47:39.280474",
     "exception": false,
     "start_time": "2025-04-10T21:47:39.249691",
     "status": "completed"
    },
    "tags": []
   },
   "outputs": [],
   "source": [
    "dataset = pd.read_csv(r'/kaggle/input/iris/Iris.csv')"
   ]
  },
  {
   "cell_type": "markdown",
   "id": "e982d79d",
   "metadata": {
    "papermill": {
     "duration": 0.004897,
     "end_time": "2025-04-10T21:47:39.290716",
     "exception": false,
     "start_time": "2025-04-10T21:47:39.285819",
     "status": "completed"
    },
    "tags": []
   },
   "source": [
    "### Top 5 rows in Dataset"
   ]
  },
  {
   "cell_type": "code",
   "execution_count": 4,
   "id": "d46bbe33",
   "metadata": {
    "execution": {
     "iopub.execute_input": "2025-04-10T21:47:39.302450Z",
     "iopub.status.busy": "2025-04-10T21:47:39.302116Z",
     "iopub.status.idle": "2025-04-10T21:47:39.331386Z",
     "shell.execute_reply": "2025-04-10T21:47:39.330364Z"
    },
    "papermill": {
     "duration": 0.037392,
     "end_time": "2025-04-10T21:47:39.333268",
     "exception": false,
     "start_time": "2025-04-10T21:47:39.295876",
     "status": "completed"
    },
    "tags": []
   },
   "outputs": [
    {
     "data": {
      "text/html": [
       "<div>\n",
       "<style scoped>\n",
       "    .dataframe tbody tr th:only-of-type {\n",
       "        vertical-align: middle;\n",
       "    }\n",
       "\n",
       "    .dataframe tbody tr th {\n",
       "        vertical-align: top;\n",
       "    }\n",
       "\n",
       "    .dataframe thead th {\n",
       "        text-align: right;\n",
       "    }\n",
       "</style>\n",
       "<table border=\"1\" class=\"dataframe\">\n",
       "  <thead>\n",
       "    <tr style=\"text-align: right;\">\n",
       "      <th></th>\n",
       "      <th>Id</th>\n",
       "      <th>SepalLengthCm</th>\n",
       "      <th>SepalWidthCm</th>\n",
       "      <th>PetalLengthCm</th>\n",
       "      <th>PetalWidthCm</th>\n",
       "      <th>Species</th>\n",
       "    </tr>\n",
       "  </thead>\n",
       "  <tbody>\n",
       "    <tr>\n",
       "      <th>0</th>\n",
       "      <td>1</td>\n",
       "      <td>5.1</td>\n",
       "      <td>3.5</td>\n",
       "      <td>1.4</td>\n",
       "      <td>0.2</td>\n",
       "      <td>Iris-setosa</td>\n",
       "    </tr>\n",
       "    <tr>\n",
       "      <th>1</th>\n",
       "      <td>2</td>\n",
       "      <td>4.9</td>\n",
       "      <td>3.0</td>\n",
       "      <td>1.4</td>\n",
       "      <td>0.2</td>\n",
       "      <td>Iris-setosa</td>\n",
       "    </tr>\n",
       "    <tr>\n",
       "      <th>2</th>\n",
       "      <td>3</td>\n",
       "      <td>4.7</td>\n",
       "      <td>3.2</td>\n",
       "      <td>1.3</td>\n",
       "      <td>0.2</td>\n",
       "      <td>Iris-setosa</td>\n",
       "    </tr>\n",
       "    <tr>\n",
       "      <th>3</th>\n",
       "      <td>4</td>\n",
       "      <td>4.6</td>\n",
       "      <td>3.1</td>\n",
       "      <td>1.5</td>\n",
       "      <td>0.2</td>\n",
       "      <td>Iris-setosa</td>\n",
       "    </tr>\n",
       "    <tr>\n",
       "      <th>4</th>\n",
       "      <td>5</td>\n",
       "      <td>5.0</td>\n",
       "      <td>3.6</td>\n",
       "      <td>1.4</td>\n",
       "      <td>0.2</td>\n",
       "      <td>Iris-setosa</td>\n",
       "    </tr>\n",
       "  </tbody>\n",
       "</table>\n",
       "</div>"
      ],
      "text/plain": [
       "   Id  SepalLengthCm  SepalWidthCm  PetalLengthCm  PetalWidthCm      Species\n",
       "0   1            5.1           3.5            1.4           0.2  Iris-setosa\n",
       "1   2            4.9           3.0            1.4           0.2  Iris-setosa\n",
       "2   3            4.7           3.2            1.3           0.2  Iris-setosa\n",
       "3   4            4.6           3.1            1.5           0.2  Iris-setosa\n",
       "4   5            5.0           3.6            1.4           0.2  Iris-setosa"
      ]
     },
     "execution_count": 4,
     "metadata": {},
     "output_type": "execute_result"
    }
   ],
   "source": [
    "dataset.head()"
   ]
  },
  {
   "cell_type": "markdown",
   "id": "2d18c64a",
   "metadata": {
    "papermill": {
     "duration": 0.005032,
     "end_time": "2025-04-10T21:47:39.344216",
     "exception": false,
     "start_time": "2025-04-10T21:47:39.339184",
     "status": "completed"
    },
    "tags": []
   },
   "source": [
    "### Remove Id column"
   ]
  },
  {
   "cell_type": "code",
   "execution_count": 5,
   "id": "c1a0eae9",
   "metadata": {
    "execution": {
     "iopub.execute_input": "2025-04-10T21:47:39.356382Z",
     "iopub.status.busy": "2025-04-10T21:47:39.356011Z",
     "iopub.status.idle": "2025-04-10T21:47:39.378063Z",
     "shell.execute_reply": "2025-04-10T21:47:39.377070Z"
    },
    "papermill": {
     "duration": 0.030035,
     "end_time": "2025-04-10T21:47:39.379739",
     "exception": false,
     "start_time": "2025-04-10T21:47:39.349704",
     "status": "completed"
    },
    "tags": []
   },
   "outputs": [
    {
     "data": {
      "text/html": [
       "<div>\n",
       "<style scoped>\n",
       "    .dataframe tbody tr th:only-of-type {\n",
       "        vertical-align: middle;\n",
       "    }\n",
       "\n",
       "    .dataframe tbody tr th {\n",
       "        vertical-align: top;\n",
       "    }\n",
       "\n",
       "    .dataframe thead th {\n",
       "        text-align: right;\n",
       "    }\n",
       "</style>\n",
       "<table border=\"1\" class=\"dataframe\">\n",
       "  <thead>\n",
       "    <tr style=\"text-align: right;\">\n",
       "      <th></th>\n",
       "      <th>SepalLengthCm</th>\n",
       "      <th>SepalWidthCm</th>\n",
       "      <th>PetalLengthCm</th>\n",
       "      <th>PetalWidthCm</th>\n",
       "      <th>Species</th>\n",
       "    </tr>\n",
       "  </thead>\n",
       "  <tbody>\n",
       "    <tr>\n",
       "      <th>0</th>\n",
       "      <td>5.1</td>\n",
       "      <td>3.5</td>\n",
       "      <td>1.4</td>\n",
       "      <td>0.2</td>\n",
       "      <td>Iris-setosa</td>\n",
       "    </tr>\n",
       "    <tr>\n",
       "      <th>1</th>\n",
       "      <td>4.9</td>\n",
       "      <td>3.0</td>\n",
       "      <td>1.4</td>\n",
       "      <td>0.2</td>\n",
       "      <td>Iris-setosa</td>\n",
       "    </tr>\n",
       "    <tr>\n",
       "      <th>2</th>\n",
       "      <td>4.7</td>\n",
       "      <td>3.2</td>\n",
       "      <td>1.3</td>\n",
       "      <td>0.2</td>\n",
       "      <td>Iris-setosa</td>\n",
       "    </tr>\n",
       "    <tr>\n",
       "      <th>3</th>\n",
       "      <td>4.6</td>\n",
       "      <td>3.1</td>\n",
       "      <td>1.5</td>\n",
       "      <td>0.2</td>\n",
       "      <td>Iris-setosa</td>\n",
       "    </tr>\n",
       "    <tr>\n",
       "      <th>4</th>\n",
       "      <td>5.0</td>\n",
       "      <td>3.6</td>\n",
       "      <td>1.4</td>\n",
       "      <td>0.2</td>\n",
       "      <td>Iris-setosa</td>\n",
       "    </tr>\n",
       "  </tbody>\n",
       "</table>\n",
       "</div>"
      ],
      "text/plain": [
       "   SepalLengthCm  SepalWidthCm  PetalLengthCm  PetalWidthCm      Species\n",
       "0            5.1           3.5            1.4           0.2  Iris-setosa\n",
       "1            4.9           3.0            1.4           0.2  Iris-setosa\n",
       "2            4.7           3.2            1.3           0.2  Iris-setosa\n",
       "3            4.6           3.1            1.5           0.2  Iris-setosa\n",
       "4            5.0           3.6            1.4           0.2  Iris-setosa"
      ]
     },
     "execution_count": 5,
     "metadata": {},
     "output_type": "execute_result"
    }
   ],
   "source": [
    "dataset.drop('Id' , axis = 1 , inplace = True)\n",
    "dataset.head()"
   ]
  },
  {
   "cell_type": "code",
   "execution_count": 6,
   "id": "a534f06a",
   "metadata": {
    "execution": {
     "iopub.execute_input": "2025-04-10T21:47:39.392236Z",
     "iopub.status.busy": "2025-04-10T21:47:39.391925Z",
     "iopub.status.idle": "2025-04-10T21:47:39.398149Z",
     "shell.execute_reply": "2025-04-10T21:47:39.397167Z"
    },
    "papermill": {
     "duration": 0.014312,
     "end_time": "2025-04-10T21:47:39.399652",
     "exception": false,
     "start_time": "2025-04-10T21:47:39.385340",
     "status": "completed"
    },
    "tags": []
   },
   "outputs": [
    {
     "data": {
      "text/plain": [
       "Index(['SepalLengthCm', 'SepalWidthCm', 'PetalLengthCm', 'PetalWidthCm',\n",
       "       'Species'],\n",
       "      dtype='object')"
      ]
     },
     "execution_count": 6,
     "metadata": {},
     "output_type": "execute_result"
    }
   ],
   "source": [
    "dataset.columns"
   ]
  },
  {
   "cell_type": "markdown",
   "id": "2fc5fcab",
   "metadata": {
    "papermill": {
     "duration": 0.005355,
     "end_time": "2025-04-10T21:47:39.410740",
     "exception": false,
     "start_time": "2025-04-10T21:47:39.405385",
     "status": "completed"
    },
    "tags": []
   },
   "source": [
    "# Dataset Analysis"
   ]
  },
  {
   "cell_type": "code",
   "execution_count": 7,
   "id": "0164e3b7",
   "metadata": {
    "execution": {
     "iopub.execute_input": "2025-04-10T21:47:39.423076Z",
     "iopub.status.busy": "2025-04-10T21:47:39.422759Z",
     "iopub.status.idle": "2025-04-10T21:47:39.444260Z",
     "shell.execute_reply": "2025-04-10T21:47:39.443018Z"
    },
    "papermill": {
     "duration": 0.029558,
     "end_time": "2025-04-10T21:47:39.445829",
     "exception": false,
     "start_time": "2025-04-10T21:47:39.416271",
     "status": "completed"
    },
    "tags": []
   },
   "outputs": [
    {
     "name": "stdout",
     "output_type": "stream",
     "text": [
      "<class 'pandas.core.frame.DataFrame'>\n",
      "RangeIndex: 150 entries, 0 to 149\n",
      "Data columns (total 5 columns):\n",
      " #   Column         Non-Null Count  Dtype  \n",
      "---  ------         --------------  -----  \n",
      " 0   SepalLengthCm  150 non-null    float64\n",
      " 1   SepalWidthCm   150 non-null    float64\n",
      " 2   PetalLengthCm  150 non-null    float64\n",
      " 3   PetalWidthCm   150 non-null    float64\n",
      " 4   Species        150 non-null    object \n",
      "dtypes: float64(4), object(1)\n",
      "memory usage: 6.0+ KB\n"
     ]
    }
   ],
   "source": [
    "dataset.info()"
   ]
  },
  {
   "cell_type": "code",
   "execution_count": 8,
   "id": "e1ddda21",
   "metadata": {
    "execution": {
     "iopub.execute_input": "2025-04-10T21:47:39.458814Z",
     "iopub.status.busy": "2025-04-10T21:47:39.458483Z",
     "iopub.status.idle": "2025-04-10T21:47:39.483515Z",
     "shell.execute_reply": "2025-04-10T21:47:39.482520Z"
    },
    "papermill": {
     "duration": 0.033347,
     "end_time": "2025-04-10T21:47:39.485111",
     "exception": false,
     "start_time": "2025-04-10T21:47:39.451764",
     "status": "completed"
    },
    "tags": []
   },
   "outputs": [
    {
     "data": {
      "text/html": [
       "<div>\n",
       "<style scoped>\n",
       "    .dataframe tbody tr th:only-of-type {\n",
       "        vertical-align: middle;\n",
       "    }\n",
       "\n",
       "    .dataframe tbody tr th {\n",
       "        vertical-align: top;\n",
       "    }\n",
       "\n",
       "    .dataframe thead th {\n",
       "        text-align: right;\n",
       "    }\n",
       "</style>\n",
       "<table border=\"1\" class=\"dataframe\">\n",
       "  <thead>\n",
       "    <tr style=\"text-align: right;\">\n",
       "      <th></th>\n",
       "      <th>SepalLengthCm</th>\n",
       "      <th>SepalWidthCm</th>\n",
       "      <th>PetalLengthCm</th>\n",
       "      <th>PetalWidthCm</th>\n",
       "    </tr>\n",
       "  </thead>\n",
       "  <tbody>\n",
       "    <tr>\n",
       "      <th>count</th>\n",
       "      <td>150.000000</td>\n",
       "      <td>150.000000</td>\n",
       "      <td>150.000000</td>\n",
       "      <td>150.000000</td>\n",
       "    </tr>\n",
       "    <tr>\n",
       "      <th>mean</th>\n",
       "      <td>5.843333</td>\n",
       "      <td>3.054000</td>\n",
       "      <td>3.758667</td>\n",
       "      <td>1.198667</td>\n",
       "    </tr>\n",
       "    <tr>\n",
       "      <th>std</th>\n",
       "      <td>0.828066</td>\n",
       "      <td>0.433594</td>\n",
       "      <td>1.764420</td>\n",
       "      <td>0.763161</td>\n",
       "    </tr>\n",
       "    <tr>\n",
       "      <th>min</th>\n",
       "      <td>4.300000</td>\n",
       "      <td>2.000000</td>\n",
       "      <td>1.000000</td>\n",
       "      <td>0.100000</td>\n",
       "    </tr>\n",
       "    <tr>\n",
       "      <th>25%</th>\n",
       "      <td>5.100000</td>\n",
       "      <td>2.800000</td>\n",
       "      <td>1.600000</td>\n",
       "      <td>0.300000</td>\n",
       "    </tr>\n",
       "    <tr>\n",
       "      <th>50%</th>\n",
       "      <td>5.800000</td>\n",
       "      <td>3.000000</td>\n",
       "      <td>4.350000</td>\n",
       "      <td>1.300000</td>\n",
       "    </tr>\n",
       "    <tr>\n",
       "      <th>75%</th>\n",
       "      <td>6.400000</td>\n",
       "      <td>3.300000</td>\n",
       "      <td>5.100000</td>\n",
       "      <td>1.800000</td>\n",
       "    </tr>\n",
       "    <tr>\n",
       "      <th>max</th>\n",
       "      <td>7.900000</td>\n",
       "      <td>4.400000</td>\n",
       "      <td>6.900000</td>\n",
       "      <td>2.500000</td>\n",
       "    </tr>\n",
       "  </tbody>\n",
       "</table>\n",
       "</div>"
      ],
      "text/plain": [
       "       SepalLengthCm  SepalWidthCm  PetalLengthCm  PetalWidthCm\n",
       "count     150.000000    150.000000     150.000000    150.000000\n",
       "mean        5.843333      3.054000       3.758667      1.198667\n",
       "std         0.828066      0.433594       1.764420      0.763161\n",
       "min         4.300000      2.000000       1.000000      0.100000\n",
       "25%         5.100000      2.800000       1.600000      0.300000\n",
       "50%         5.800000      3.000000       4.350000      1.300000\n",
       "75%         6.400000      3.300000       5.100000      1.800000\n",
       "max         7.900000      4.400000       6.900000      2.500000"
      ]
     },
     "execution_count": 8,
     "metadata": {},
     "output_type": "execute_result"
    }
   ],
   "source": [
    "dataset.describe()"
   ]
  },
  {
   "cell_type": "code",
   "execution_count": 9,
   "id": "56974902",
   "metadata": {
    "execution": {
     "iopub.execute_input": "2025-04-10T21:47:39.499187Z",
     "iopub.status.busy": "2025-04-10T21:47:39.498245Z",
     "iopub.status.idle": "2025-04-10T21:47:39.506292Z",
     "shell.execute_reply": "2025-04-10T21:47:39.504985Z"
    },
    "papermill": {
     "duration": 0.016436,
     "end_time": "2025-04-10T21:47:39.507953",
     "exception": false,
     "start_time": "2025-04-10T21:47:39.491517",
     "status": "completed"
    },
    "tags": []
   },
   "outputs": [
    {
     "data": {
      "text/plain": [
       "SepalLengthCm    0\n",
       "SepalWidthCm     0\n",
       "PetalLengthCm    0\n",
       "PetalWidthCm     0\n",
       "Species          0\n",
       "dtype: int64"
      ]
     },
     "execution_count": 9,
     "metadata": {},
     "output_type": "execute_result"
    }
   ],
   "source": [
    "dataset.isnull().sum()"
   ]
  },
  {
   "cell_type": "code",
   "execution_count": 10,
   "id": "513bd3de",
   "metadata": {
    "execution": {
     "iopub.execute_input": "2025-04-10T21:47:39.521412Z",
     "iopub.status.busy": "2025-04-10T21:47:39.521064Z",
     "iopub.status.idle": "2025-04-10T21:47:39.528612Z",
     "shell.execute_reply": "2025-04-10T21:47:39.527711Z"
    },
    "papermill": {
     "duration": 0.016104,
     "end_time": "2025-04-10T21:47:39.530308",
     "exception": false,
     "start_time": "2025-04-10T21:47:39.514204",
     "status": "completed"
    },
    "tags": []
   },
   "outputs": [
    {
     "data": {
      "text/plain": [
       "3"
      ]
     },
     "execution_count": 10,
     "metadata": {},
     "output_type": "execute_result"
    }
   ],
   "source": [
    "dataset.duplicated().sum()"
   ]
  },
  {
   "cell_type": "code",
   "execution_count": 11,
   "id": "c420bc63",
   "metadata": {
    "execution": {
     "iopub.execute_input": "2025-04-10T21:47:39.544187Z",
     "iopub.status.busy": "2025-04-10T21:47:39.543876Z",
     "iopub.status.idle": "2025-04-10T21:47:39.556411Z",
     "shell.execute_reply": "2025-04-10T21:47:39.555331Z"
    },
    "papermill": {
     "duration": 0.021305,
     "end_time": "2025-04-10T21:47:39.558061",
     "exception": false,
     "start_time": "2025-04-10T21:47:39.536756",
     "status": "completed"
    },
    "tags": []
   },
   "outputs": [
    {
     "data": {
      "text/html": [
       "<div>\n",
       "<style scoped>\n",
       "    .dataframe tbody tr th:only-of-type {\n",
       "        vertical-align: middle;\n",
       "    }\n",
       "\n",
       "    .dataframe tbody tr th {\n",
       "        vertical-align: top;\n",
       "    }\n",
       "\n",
       "    .dataframe thead th {\n",
       "        text-align: right;\n",
       "    }\n",
       "</style>\n",
       "<table border=\"1\" class=\"dataframe\">\n",
       "  <thead>\n",
       "    <tr style=\"text-align: right;\">\n",
       "      <th></th>\n",
       "      <th>SepalLengthCm</th>\n",
       "      <th>SepalWidthCm</th>\n",
       "      <th>PetalLengthCm</th>\n",
       "      <th>PetalWidthCm</th>\n",
       "      <th>Species</th>\n",
       "    </tr>\n",
       "  </thead>\n",
       "  <tbody>\n",
       "    <tr>\n",
       "      <th>34</th>\n",
       "      <td>4.9</td>\n",
       "      <td>3.1</td>\n",
       "      <td>1.5</td>\n",
       "      <td>0.1</td>\n",
       "      <td>Iris-setosa</td>\n",
       "    </tr>\n",
       "    <tr>\n",
       "      <th>37</th>\n",
       "      <td>4.9</td>\n",
       "      <td>3.1</td>\n",
       "      <td>1.5</td>\n",
       "      <td>0.1</td>\n",
       "      <td>Iris-setosa</td>\n",
       "    </tr>\n",
       "    <tr>\n",
       "      <th>142</th>\n",
       "      <td>5.8</td>\n",
       "      <td>2.7</td>\n",
       "      <td>5.1</td>\n",
       "      <td>1.9</td>\n",
       "      <td>Iris-virginica</td>\n",
       "    </tr>\n",
       "  </tbody>\n",
       "</table>\n",
       "</div>"
      ],
      "text/plain": [
       "     SepalLengthCm  SepalWidthCm  PetalLengthCm  PetalWidthCm         Species\n",
       "34             4.9           3.1            1.5           0.1     Iris-setosa\n",
       "37             4.9           3.1            1.5           0.1     Iris-setosa\n",
       "142            5.8           2.7            5.1           1.9  Iris-virginica"
      ]
     },
     "execution_count": 11,
     "metadata": {},
     "output_type": "execute_result"
    }
   ],
   "source": [
    "dataset[dataset.duplicated()]"
   ]
  },
  {
   "cell_type": "code",
   "execution_count": 12,
   "id": "d322fe58",
   "metadata": {
    "execution": {
     "iopub.execute_input": "2025-04-10T21:47:39.572834Z",
     "iopub.status.busy": "2025-04-10T21:47:39.572498Z",
     "iopub.status.idle": "2025-04-10T21:47:39.578571Z",
     "shell.execute_reply": "2025-04-10T21:47:39.577762Z"
    },
    "papermill": {
     "duration": 0.014993,
     "end_time": "2025-04-10T21:47:39.580098",
     "exception": false,
     "start_time": "2025-04-10T21:47:39.565105",
     "status": "completed"
    },
    "tags": []
   },
   "outputs": [],
   "source": [
    "dataset.drop_duplicates(inplace = True)"
   ]
  },
  {
   "cell_type": "code",
   "execution_count": 13,
   "id": "8e13e57f",
   "metadata": {
    "execution": {
     "iopub.execute_input": "2025-04-10T21:47:39.594473Z",
     "iopub.status.busy": "2025-04-10T21:47:39.593471Z",
     "iopub.status.idle": "2025-04-10T21:47:39.601340Z",
     "shell.execute_reply": "2025-04-10T21:47:39.600342Z"
    },
    "papermill": {
     "duration": 0.016343,
     "end_time": "2025-04-10T21:47:39.602841",
     "exception": false,
     "start_time": "2025-04-10T21:47:39.586498",
     "status": "completed"
    },
    "tags": []
   },
   "outputs": [
    {
     "data": {
      "text/plain": [
       "0"
      ]
     },
     "execution_count": 13,
     "metadata": {},
     "output_type": "execute_result"
    }
   ],
   "source": [
    "dataset.duplicated().sum()"
   ]
  },
  {
   "cell_type": "code",
   "execution_count": 14,
   "id": "d9121fd5",
   "metadata": {
    "execution": {
     "iopub.execute_input": "2025-04-10T21:47:39.617938Z",
     "iopub.status.busy": "2025-04-10T21:47:39.617511Z",
     "iopub.status.idle": "2025-04-10T21:47:39.624941Z",
     "shell.execute_reply": "2025-04-10T21:47:39.624003Z"
    },
    "papermill": {
     "duration": 0.016896,
     "end_time": "2025-04-10T21:47:39.626532",
     "exception": false,
     "start_time": "2025-04-10T21:47:39.609636",
     "status": "completed"
    },
    "tags": []
   },
   "outputs": [
    {
     "data": {
      "text/plain": [
       "Species\n",
       "Iris-versicolor    50\n",
       "Iris-virginica     49\n",
       "Iris-setosa        48\n",
       "Name: count, dtype: int64"
      ]
     },
     "execution_count": 14,
     "metadata": {},
     "output_type": "execute_result"
    }
   ],
   "source": [
    "dataset['Species'].value_counts()"
   ]
  },
  {
   "cell_type": "code",
   "execution_count": 15,
   "id": "535a7016",
   "metadata": {
    "execution": {
     "iopub.execute_input": "2025-04-10T21:47:39.640985Z",
     "iopub.status.busy": "2025-04-10T21:47:39.640639Z",
     "iopub.status.idle": "2025-04-10T21:47:39.656797Z",
     "shell.execute_reply": "2025-04-10T21:47:39.655850Z"
    },
    "papermill": {
     "duration": 0.025411,
     "end_time": "2025-04-10T21:47:39.658586",
     "exception": false,
     "start_time": "2025-04-10T21:47:39.633175",
     "status": "completed"
    },
    "tags": []
   },
   "outputs": [
    {
     "data": {
      "text/html": [
       "<div>\n",
       "<style scoped>\n",
       "    .dataframe tbody tr th:only-of-type {\n",
       "        vertical-align: middle;\n",
       "    }\n",
       "\n",
       "    .dataframe tbody tr th {\n",
       "        vertical-align: top;\n",
       "    }\n",
       "\n",
       "    .dataframe thead th {\n",
       "        text-align: right;\n",
       "    }\n",
       "</style>\n",
       "<table border=\"1\" class=\"dataframe\">\n",
       "  <thead>\n",
       "    <tr style=\"text-align: right;\">\n",
       "      <th></th>\n",
       "      <th>SepalLengthCm</th>\n",
       "      <th>SepalWidthCm</th>\n",
       "      <th>PetalLengthCm</th>\n",
       "      <th>PetalWidthCm</th>\n",
       "    </tr>\n",
       "    <tr>\n",
       "      <th>Species</th>\n",
       "      <th></th>\n",
       "      <th></th>\n",
       "      <th></th>\n",
       "      <th></th>\n",
       "    </tr>\n",
       "  </thead>\n",
       "  <tbody>\n",
       "    <tr>\n",
       "      <th>Iris-setosa</th>\n",
       "      <td>5.010417</td>\n",
       "      <td>3.431250</td>\n",
       "      <td>1.462500</td>\n",
       "      <td>0.250000</td>\n",
       "    </tr>\n",
       "    <tr>\n",
       "      <th>Iris-versicolor</th>\n",
       "      <td>5.936000</td>\n",
       "      <td>2.770000</td>\n",
       "      <td>4.260000</td>\n",
       "      <td>1.326000</td>\n",
       "    </tr>\n",
       "    <tr>\n",
       "      <th>Iris-virginica</th>\n",
       "      <td>6.604082</td>\n",
       "      <td>2.979592</td>\n",
       "      <td>5.561224</td>\n",
       "      <td>2.028571</td>\n",
       "    </tr>\n",
       "  </tbody>\n",
       "</table>\n",
       "</div>"
      ],
      "text/plain": [
       "                 SepalLengthCm  SepalWidthCm  PetalLengthCm  PetalWidthCm\n",
       "Species                                                                  \n",
       "Iris-setosa           5.010417      3.431250       1.462500      0.250000\n",
       "Iris-versicolor       5.936000      2.770000       4.260000      1.326000\n",
       "Iris-virginica        6.604082      2.979592       5.561224      2.028571"
      ]
     },
     "execution_count": 15,
     "metadata": {},
     "output_type": "execute_result"
    }
   ],
   "source": [
    "dataset.groupby('Species')[['SepalLengthCm', 'SepalWidthCm', 'PetalLengthCm', 'PetalWidthCm']].mean()"
   ]
  },
  {
   "cell_type": "markdown",
   "id": "c636f34a",
   "metadata": {
    "papermill": {
     "duration": 0.006121,
     "end_time": "2025-04-10T21:47:39.671251",
     "exception": false,
     "start_time": "2025-04-10T21:47:39.665130",
     "status": "completed"
    },
    "tags": []
   },
   "source": [
    "# x and y Sepration"
   ]
  },
  {
   "cell_type": "code",
   "execution_count": 16,
   "id": "80ce9826",
   "metadata": {
    "execution": {
     "iopub.execute_input": "2025-04-10T21:47:39.686528Z",
     "iopub.status.busy": "2025-04-10T21:47:39.686177Z",
     "iopub.status.idle": "2025-04-10T21:47:39.692114Z",
     "shell.execute_reply": "2025-04-10T21:47:39.690969Z"
    },
    "papermill": {
     "duration": 0.015267,
     "end_time": "2025-04-10T21:47:39.694028",
     "exception": false,
     "start_time": "2025-04-10T21:47:39.678761",
     "status": "completed"
    },
    "tags": []
   },
   "outputs": [],
   "source": [
    "x = dataset.drop('Species' , axis = 1)\n",
    "y = dataset.Species"
   ]
  },
  {
   "cell_type": "code",
   "execution_count": 17,
   "id": "30d0884f",
   "metadata": {
    "execution": {
     "iopub.execute_input": "2025-04-10T21:47:39.708691Z",
     "iopub.status.busy": "2025-04-10T21:47:39.708370Z",
     "iopub.status.idle": "2025-04-10T21:47:39.720148Z",
     "shell.execute_reply": "2025-04-10T21:47:39.719189Z"
    },
    "papermill": {
     "duration": 0.020962,
     "end_time": "2025-04-10T21:47:39.721890",
     "exception": false,
     "start_time": "2025-04-10T21:47:39.700928",
     "status": "completed"
    },
    "tags": []
   },
   "outputs": [
    {
     "data": {
      "text/html": [
       "<div>\n",
       "<style scoped>\n",
       "    .dataframe tbody tr th:only-of-type {\n",
       "        vertical-align: middle;\n",
       "    }\n",
       "\n",
       "    .dataframe tbody tr th {\n",
       "        vertical-align: top;\n",
       "    }\n",
       "\n",
       "    .dataframe thead th {\n",
       "        text-align: right;\n",
       "    }\n",
       "</style>\n",
       "<table border=\"1\" class=\"dataframe\">\n",
       "  <thead>\n",
       "    <tr style=\"text-align: right;\">\n",
       "      <th></th>\n",
       "      <th>SepalLengthCm</th>\n",
       "      <th>SepalWidthCm</th>\n",
       "      <th>PetalLengthCm</th>\n",
       "      <th>PetalWidthCm</th>\n",
       "    </tr>\n",
       "  </thead>\n",
       "  <tbody>\n",
       "    <tr>\n",
       "      <th>0</th>\n",
       "      <td>5.1</td>\n",
       "      <td>3.5</td>\n",
       "      <td>1.4</td>\n",
       "      <td>0.2</td>\n",
       "    </tr>\n",
       "    <tr>\n",
       "      <th>1</th>\n",
       "      <td>4.9</td>\n",
       "      <td>3.0</td>\n",
       "      <td>1.4</td>\n",
       "      <td>0.2</td>\n",
       "    </tr>\n",
       "    <tr>\n",
       "      <th>2</th>\n",
       "      <td>4.7</td>\n",
       "      <td>3.2</td>\n",
       "      <td>1.3</td>\n",
       "      <td>0.2</td>\n",
       "    </tr>\n",
       "    <tr>\n",
       "      <th>3</th>\n",
       "      <td>4.6</td>\n",
       "      <td>3.1</td>\n",
       "      <td>1.5</td>\n",
       "      <td>0.2</td>\n",
       "    </tr>\n",
       "    <tr>\n",
       "      <th>4</th>\n",
       "      <td>5.0</td>\n",
       "      <td>3.6</td>\n",
       "      <td>1.4</td>\n",
       "      <td>0.2</td>\n",
       "    </tr>\n",
       "  </tbody>\n",
       "</table>\n",
       "</div>"
      ],
      "text/plain": [
       "   SepalLengthCm  SepalWidthCm  PetalLengthCm  PetalWidthCm\n",
       "0            5.1           3.5            1.4           0.2\n",
       "1            4.9           3.0            1.4           0.2\n",
       "2            4.7           3.2            1.3           0.2\n",
       "3            4.6           3.1            1.5           0.2\n",
       "4            5.0           3.6            1.4           0.2"
      ]
     },
     "execution_count": 17,
     "metadata": {},
     "output_type": "execute_result"
    }
   ],
   "source": [
    "x.head()"
   ]
  },
  {
   "cell_type": "code",
   "execution_count": 18,
   "id": "64820071",
   "metadata": {
    "execution": {
     "iopub.execute_input": "2025-04-10T21:47:39.736655Z",
     "iopub.status.busy": "2025-04-10T21:47:39.736305Z",
     "iopub.status.idle": "2025-04-10T21:47:39.743390Z",
     "shell.execute_reply": "2025-04-10T21:47:39.742367Z"
    },
    "papermill": {
     "duration": 0.016361,
     "end_time": "2025-04-10T21:47:39.745067",
     "exception": false,
     "start_time": "2025-04-10T21:47:39.728706",
     "status": "completed"
    },
    "tags": []
   },
   "outputs": [
    {
     "data": {
      "text/plain": [
       "0    Iris-setosa\n",
       "1    Iris-setosa\n",
       "2    Iris-setosa\n",
       "3    Iris-setosa\n",
       "4    Iris-setosa\n",
       "Name: Species, dtype: object"
      ]
     },
     "execution_count": 18,
     "metadata": {},
     "output_type": "execute_result"
    }
   ],
   "source": [
    "y.head()"
   ]
  },
  {
   "cell_type": "markdown",
   "id": "bb417109",
   "metadata": {
    "papermill": {
     "duration": 0.007074,
     "end_time": "2025-04-10T21:47:39.759041",
     "exception": false,
     "start_time": "2025-04-10T21:47:39.751967",
     "status": "completed"
    },
    "tags": []
   },
   "source": [
    "# Train Test Split"
   ]
  },
  {
   "cell_type": "code",
   "execution_count": 19,
   "id": "fcef06c7",
   "metadata": {
    "execution": {
     "iopub.execute_input": "2025-04-10T21:47:39.773446Z",
     "iopub.status.busy": "2025-04-10T21:47:39.773098Z",
     "iopub.status.idle": "2025-04-10T21:47:39.779898Z",
     "shell.execute_reply": "2025-04-10T21:47:39.779040Z"
    },
    "papermill": {
     "duration": 0.015857,
     "end_time": "2025-04-10T21:47:39.781546",
     "exception": false,
     "start_time": "2025-04-10T21:47:39.765689",
     "status": "completed"
    },
    "tags": []
   },
   "outputs": [],
   "source": [
    "x_train , x_test , y_train , y_test = train_test_split(x , y , test_size = 0.2 , random_state = 0)"
   ]
  },
  {
   "cell_type": "markdown",
   "id": "f1bb2bf6",
   "metadata": {
    "papermill": {
     "duration": 0.006383,
     "end_time": "2025-04-10T21:47:39.794832",
     "exception": false,
     "start_time": "2025-04-10T21:47:39.788449",
     "status": "completed"
    },
    "tags": []
   },
   "source": [
    "# Model Creation"
   ]
  },
  {
   "cell_type": "code",
   "execution_count": 20,
   "id": "adc3d84a",
   "metadata": {
    "execution": {
     "iopub.execute_input": "2025-04-10T21:47:39.810029Z",
     "iopub.status.busy": "2025-04-10T21:47:39.809685Z",
     "iopub.status.idle": "2025-04-10T21:47:39.898947Z",
     "shell.execute_reply": "2025-04-10T21:47:39.898055Z"
    },
    "papermill": {
     "duration": 0.099202,
     "end_time": "2025-04-10T21:47:39.900985",
     "exception": false,
     "start_time": "2025-04-10T21:47:39.801783",
     "status": "completed"
    },
    "tags": []
   },
   "outputs": [
    {
     "data": {
      "text/html": [
       "<style>#sk-container-id-1 {color: black;background-color: white;}#sk-container-id-1 pre{padding: 0;}#sk-container-id-1 div.sk-toggleable {background-color: white;}#sk-container-id-1 label.sk-toggleable__label {cursor: pointer;display: block;width: 100%;margin-bottom: 0;padding: 0.3em;box-sizing: border-box;text-align: center;}#sk-container-id-1 label.sk-toggleable__label-arrow:before {content: \"▸\";float: left;margin-right: 0.25em;color: #696969;}#sk-container-id-1 label.sk-toggleable__label-arrow:hover:before {color: black;}#sk-container-id-1 div.sk-estimator:hover label.sk-toggleable__label-arrow:before {color: black;}#sk-container-id-1 div.sk-toggleable__content {max-height: 0;max-width: 0;overflow: hidden;text-align: left;background-color: #f0f8ff;}#sk-container-id-1 div.sk-toggleable__content pre {margin: 0.2em;color: black;border-radius: 0.25em;background-color: #f0f8ff;}#sk-container-id-1 input.sk-toggleable__control:checked~div.sk-toggleable__content {max-height: 200px;max-width: 100%;overflow: auto;}#sk-container-id-1 input.sk-toggleable__control:checked~label.sk-toggleable__label-arrow:before {content: \"▾\";}#sk-container-id-1 div.sk-estimator input.sk-toggleable__control:checked~label.sk-toggleable__label {background-color: #d4ebff;}#sk-container-id-1 div.sk-label input.sk-toggleable__control:checked~label.sk-toggleable__label {background-color: #d4ebff;}#sk-container-id-1 input.sk-hidden--visually {border: 0;clip: rect(1px 1px 1px 1px);clip: rect(1px, 1px, 1px, 1px);height: 1px;margin: -1px;overflow: hidden;padding: 0;position: absolute;width: 1px;}#sk-container-id-1 div.sk-estimator {font-family: monospace;background-color: #f0f8ff;border: 1px dotted black;border-radius: 0.25em;box-sizing: border-box;margin-bottom: 0.5em;}#sk-container-id-1 div.sk-estimator:hover {background-color: #d4ebff;}#sk-container-id-1 div.sk-parallel-item::after {content: \"\";width: 100%;border-bottom: 1px solid gray;flex-grow: 1;}#sk-container-id-1 div.sk-label:hover label.sk-toggleable__label {background-color: #d4ebff;}#sk-container-id-1 div.sk-serial::before {content: \"\";position: absolute;border-left: 1px solid gray;box-sizing: border-box;top: 0;bottom: 0;left: 50%;z-index: 0;}#sk-container-id-1 div.sk-serial {display: flex;flex-direction: column;align-items: center;background-color: white;padding-right: 0.2em;padding-left: 0.2em;position: relative;}#sk-container-id-1 div.sk-item {position: relative;z-index: 1;}#sk-container-id-1 div.sk-parallel {display: flex;align-items: stretch;justify-content: center;background-color: white;position: relative;}#sk-container-id-1 div.sk-item::before, #sk-container-id-1 div.sk-parallel-item::before {content: \"\";position: absolute;border-left: 1px solid gray;box-sizing: border-box;top: 0;bottom: 0;left: 50%;z-index: -1;}#sk-container-id-1 div.sk-parallel-item {display: flex;flex-direction: column;z-index: 1;position: relative;background-color: white;}#sk-container-id-1 div.sk-parallel-item:first-child::after {align-self: flex-end;width: 50%;}#sk-container-id-1 div.sk-parallel-item:last-child::after {align-self: flex-start;width: 50%;}#sk-container-id-1 div.sk-parallel-item:only-child::after {width: 0;}#sk-container-id-1 div.sk-dashed-wrapped {border: 1px dashed gray;margin: 0 0.4em 0.5em 0.4em;box-sizing: border-box;padding-bottom: 0.4em;background-color: white;}#sk-container-id-1 div.sk-label label {font-family: monospace;font-weight: bold;display: inline-block;line-height: 1.2em;}#sk-container-id-1 div.sk-label-container {text-align: center;}#sk-container-id-1 div.sk-container {/* jupyter's `normalize.less` sets `[hidden] { display: none; }` but bootstrap.min.css set `[hidden] { display: none !important; }` so we also need the `!important` here to be able to override the default hidden behavior on the sphinx rendered scikit-learn.org. See: https://github.com/scikit-learn/scikit-learn/issues/21755 */display: inline-block !important;position: relative;}#sk-container-id-1 div.sk-text-repr-fallback {display: none;}</style><div id=\"sk-container-id-1\" class=\"sk-top-container\"><div class=\"sk-text-repr-fallback\"><pre>LogisticRegression()</pre><b>In a Jupyter environment, please rerun this cell to show the HTML representation or trust the notebook. <br />On GitHub, the HTML representation is unable to render, please try loading this page with nbviewer.org.</b></div><div class=\"sk-container\" hidden><div class=\"sk-item\"><div class=\"sk-estimator sk-toggleable\"><input class=\"sk-toggleable__control sk-hidden--visually\" id=\"sk-estimator-id-1\" type=\"checkbox\" checked><label for=\"sk-estimator-id-1\" class=\"sk-toggleable__label sk-toggleable__label-arrow\">LogisticRegression</label><div class=\"sk-toggleable__content\"><pre>LogisticRegression()</pre></div></div></div></div></div>"
      ],
      "text/plain": [
       "LogisticRegression()"
      ]
     },
     "execution_count": 20,
     "metadata": {},
     "output_type": "execute_result"
    }
   ],
   "source": [
    "model = LogisticRegression()\n",
    "model.fit(x_train , y_train)\n"
   ]
  },
  {
   "cell_type": "code",
   "execution_count": 21,
   "id": "fb4413ac",
   "metadata": {
    "execution": {
     "iopub.execute_input": "2025-04-10T21:47:39.927501Z",
     "iopub.status.busy": "2025-04-10T21:47:39.927140Z",
     "iopub.status.idle": "2025-04-10T21:47:39.935193Z",
     "shell.execute_reply": "2025-04-10T21:47:39.934420Z"
    },
    "papermill": {
     "duration": 0.023387,
     "end_time": "2025-04-10T21:47:39.936804",
     "exception": false,
     "start_time": "2025-04-10T21:47:39.913417",
     "status": "completed"
    },
    "tags": []
   },
   "outputs": [],
   "source": [
    "y_pred = model.predict(x_test)"
   ]
  },
  {
   "cell_type": "markdown",
   "id": "15b1d165",
   "metadata": {
    "papermill": {
     "duration": 0.010796,
     "end_time": "2025-04-10T21:47:39.958827",
     "exception": false,
     "start_time": "2025-04-10T21:47:39.948031",
     "status": "completed"
    },
    "tags": []
   },
   "source": [
    "# Evaluation"
   ]
  },
  {
   "cell_type": "code",
   "execution_count": 22,
   "id": "7d71a76a",
   "metadata": {
    "execution": {
     "iopub.execute_input": "2025-04-10T21:47:39.984209Z",
     "iopub.status.busy": "2025-04-10T21:47:39.983384Z",
     "iopub.status.idle": "2025-04-10T21:47:39.998575Z",
     "shell.execute_reply": "2025-04-10T21:47:39.997795Z"
    },
    "papermill": {
     "duration": 0.030914,
     "end_time": "2025-04-10T21:47:40.001474",
     "exception": false,
     "start_time": "2025-04-10T21:47:39.970560",
     "status": "completed"
    },
    "tags": []
   },
   "outputs": [
    {
     "name": "stdout",
     "output_type": "stream",
     "text": [
      "                 precision    recall  f1-score   support\n",
      "\n",
      "    Iris-setosa       1.00      1.00      1.00        11\n",
      "Iris-versicolor       1.00      1.00      1.00        10\n",
      " Iris-virginica       1.00      1.00      1.00         9\n",
      "\n",
      "       accuracy                           1.00        30\n",
      "      macro avg       1.00      1.00      1.00        30\n",
      "   weighted avg       1.00      1.00      1.00        30\n",
      "\n"
     ]
    }
   ],
   "source": [
    "print(classification_report(y_test , y_pred))"
   ]
  },
  {
   "cell_type": "markdown",
   "id": "a6cb7f2e",
   "metadata": {
    "papermill": {
     "duration": 0.007448,
     "end_time": "2025-04-10T21:47:40.094431",
     "exception": false,
     "start_time": "2025-04-10T21:47:40.086983",
     "status": "completed"
    },
    "tags": []
   },
   "source": [
    "# Confusion Matrix"
   ]
  },
  {
   "cell_type": "code",
   "execution_count": 23,
   "id": "e4c78bef",
   "metadata": {
    "execution": {
     "iopub.execute_input": "2025-04-10T21:47:40.110215Z",
     "iopub.status.busy": "2025-04-10T21:47:40.109905Z",
     "iopub.status.idle": "2025-04-10T21:47:40.118996Z",
     "shell.execute_reply": "2025-04-10T21:47:40.117875Z"
    },
    "papermill": {
     "duration": 0.018951,
     "end_time": "2025-04-10T21:47:40.120799",
     "exception": false,
     "start_time": "2025-04-10T21:47:40.101848",
     "status": "completed"
    },
    "tags": []
   },
   "outputs": [
    {
     "name": "stdout",
     "output_type": "stream",
     "text": [
      "[[11  0  0]\n",
      " [ 0 10  0]\n",
      " [ 0  0  9]]\n"
     ]
    }
   ],
   "source": [
    "cm = confusion_matrix(y_test ,y_pred , labels = model.classes_)\n",
    "print(cm)"
   ]
  },
  {
   "cell_type": "code",
   "execution_count": 24,
   "id": "ead8ca2f",
   "metadata": {
    "execution": {
     "iopub.execute_input": "2025-04-10T21:47:40.136521Z",
     "iopub.status.busy": "2025-04-10T21:47:40.136099Z",
     "iopub.status.idle": "2025-04-10T21:47:40.422888Z",
     "shell.execute_reply": "2025-04-10T21:47:40.421960Z"
    },
    "papermill": {
     "duration": 0.296402,
     "end_time": "2025-04-10T21:47:40.424467",
     "exception": false,
     "start_time": "2025-04-10T21:47:40.128065",
     "status": "completed"
    },
    "tags": []
   },
   "outputs": [
    {
     "data": {
      "image/png": "[encoded data removed]",
      "text/plain": [
       "<Figure size 640x480 with 2 Axes>"
      ]
     },
     "metadata": {},
     "output_type": "display_data"
    }
   ],
   "source": [
    "disp = ConfusionMatrixDisplay(cm ,display_labels = model.classes_)\n",
    "disp.plot()\n",
    "plt.show()"
   ]
  },
  {
   "cell_type": "markdown",
   "id": "35969aee",
   "metadata": {
    "papermill": {
     "duration": 0.007355,
     "end_time": "2025-04-10T21:47:40.439576",
     "exception": false,
     "start_time": "2025-04-10T21:47:40.432221",
     "status": "completed"
    },
    "tags": []
   },
   "source": [
    "Thank You !"
   ]
  }
 ],
 "metadata": {
  "kaggle": {
   "accelerator": "none",
   "dataSources": [
    {
     "datasetId": 19,
     "sourceId": 420,
     "sourceType": "datasetVersion"
    }
   ],
   "dockerImageVersionId": 31012,
   "isGpuEnabled": false,
   "isInternetEnabled": true,
   "language": "python",
   "sourceType": "notebook"
  },
  "kernelspec": {
   "display_name": "Python 3",
   "language": "python",
   "name": "python3"
  },
  "language_info": {
   "codemirror_mode": {
    "name": "ipython",
    "version": 3
   },
   "file_extension": ".py",
   "mimetype": "text/x-python",
   "name": "python",
   "nbconvert_exporter": "python",
   "pygments_lexer": "ipython3",
   "version": "3.11.11"
  },
  "papermill": {
   "default_parameters": {},
   "duration": 11.707833,
   "end_time": "2025-04-10T21:47:41.168153",
   "environment_variables": {},
   "exception": null,
   "input_path": "__notebook__.ipynb",
   "output_path": "__notebook__.ipynb",
   "parameters": {},
   "start_time": "2025-04-10T21:47:29.460320",
   "version": "2.6.0"
  }
 },
 "nbformat": 4,
 "nbformat_minor": 5
}
